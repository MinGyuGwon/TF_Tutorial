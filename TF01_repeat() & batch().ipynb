{
 "cells": [
  {
   "cell_type": "code",
   "execution_count": 9,
   "id": "cf24f43f",
   "metadata": {},
   "outputs": [],
   "source": [
    "import tensorflow as tf\n",
    "import numpy as np\n",
    "import matplotlib.pyplot as plt"
   ]
  },
  {
   "cell_type": "code",
   "execution_count": 15,
   "id": "cdea02fa",
   "metadata": {},
   "outputs": [],
   "source": [
    "x = np.random.sample((12, 8))"
   ]
  },
  {
   "cell_type": "code",
   "execution_count": 16,
   "id": "6ca4fac8",
   "metadata": {},
   "outputs": [
    {
     "data": {
      "text/plain": [
       "array([[0.50189079, 0.01494158, 0.11023753, 0.54082085, 0.34845792,\n",
       "        0.57552592, 0.78630211, 0.51134659],\n",
       "       [0.89941251, 0.47224228, 0.31727449, 0.22082258, 0.70812672,\n",
       "        0.91372071, 0.40257671, 0.45722722],\n",
       "       [0.0698961 , 0.38127348, 0.01429446, 0.27038873, 0.3991718 ,\n",
       "        0.3686658 , 0.8762081 , 0.89836849],\n",
       "       [0.63341658, 0.67709324, 0.36505768, 0.4577954 , 0.71676591,\n",
       "        0.50036009, 0.20169448, 0.53255417],\n",
       "       [0.46903364, 0.85345815, 0.68785139, 0.93815151, 0.23203357,\n",
       "        0.09114932, 0.33896571, 0.00771982]])"
      ]
     },
     "execution_count": 16,
     "metadata": {},
     "output_type": "execute_result"
    }
   ],
   "source": [
    "x[:5]"
   ]
  },
  {
   "cell_type": "code",
   "execution_count": 17,
   "id": "19c2dd26",
   "metadata": {},
   "outputs": [],
   "source": [
    "dataset = tf.data.Dataset.from_tensor_slices(x)"
   ]
  },
  {
   "cell_type": "code",
   "execution_count": 18,
   "id": "ebd6964e",
   "metadata": {},
   "outputs": [],
   "source": [
    "def plot_batch_sizes(ds):\n",
    "    batch_sizes = [batch.shape[0] for batch in ds]\n",
    "    plt.bar(range(len(batch_sizes)), batch_sizes)\n",
    "    plt.xlabel('Batch number')\n",
    "    plt.ylabel('Batch size')"
   ]
  },
  {
   "cell_type": "code",
   "execution_count": 19,
   "id": "19d40f96",
   "metadata": {},
   "outputs": [],
   "source": [
    "before = dataset.repeat(10).batch(10)\n",
    "after = dataset.batch(10).repeat(10)"
   ]
  },
  {
   "cell_type": "code",
   "execution_count": 20,
   "id": "af71fcda",
   "metadata": {},
   "outputs": [
    {
     "data": {
      "image/png": "[encoded data removed]",
      "text/plain": [
       "<Figure size 432x288 with 1 Axes>"
      ]
     },
     "metadata": {
      "needs_background": "light"
     },
     "output_type": "display_data"
    }
   ],
   "source": [
    "plot_batch_sizes(before)"
   ]
  },
  {
   "cell_type": "code",
   "execution_count": 21,
   "id": "d3d8f9a3",
   "metadata": {},
   "outputs": [
    {
     "data": {
      "image/png": "[encoded data removed]",
      "text/plain": [
       "<Figure size 432x288 with 1 Axes>"
      ]
     },
     "metadata": {
      "needs_background": "light"
     },
     "output_type": "display_data"
    }
   ],
   "source": [
    "plot_batch_sizes(after)"
   ]
  },
  {
   "cell_type": "code",
   "execution_count": 23,
   "id": "be81933f",
   "metadata": {},
   "outputs": [
    {
     "name": "stdout",
     "output_type": "stream",
     "text": [
      "tf.Tensor(\n",
      "[0.50189079 0.01494158 0.11023753 0.54082085 0.34845792 0.57552592\n",
      " 0.78630211 0.51134659], shape=(8,), dtype=float64)\n"
     ]
    }
   ],
   "source": [
    "test = dataset.repeat(10)\n",
    "for i in test.take(1):\n",
    "    print(i)"
   ]
  }
 ],
 "metadata": {
  "kernelspec": {
   "display_name": "Python 3 (ipykernel)",
   "language": "python",
   "name": "python3"
  },
  "language_info": {
   "codemirror_mode": {
    "name": "ipython",
    "version": 3
   },
   "file_extension": ".py",
   "mimetype": "text/x-python",
   "name": "python",
   "nbconvert_exporter": "python",
   "pygments_lexer": "ipython3",
   "version": "3.9.7"
  }
 },
 "nbformat": 4,
 "nbformat_minor": 5
}
