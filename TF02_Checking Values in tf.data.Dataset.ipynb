{
 "cells": [
  {
   "cell_type": "code",
   "execution_count": 10,
   "id": "c7d608e4",
   "metadata": {},
   "outputs": [],
   "source": [
    "import tensorflow as tf\n",
    "import numpy as np"
   ]
  },
  {
   "cell_type": "code",
   "execution_count": 11,
   "id": "948f1bee",
   "metadata": {},
   "outputs": [],
   "source": [
    "x = np.random.sample((12, 8))"
   ]
  },
  {
   "cell_type": "code",
   "execution_count": 12,
   "id": "07d685b1",
   "metadata": {},
   "outputs": [
    {
     "data": {
      "text/plain": [
       "array([[0.96378348, 0.91709233, 0.40705792, 0.85203955, 0.12843656,\n",
       "        0.01407703, 0.0589931 , 0.12745813],\n",
       "       [0.87558064, 0.13135384, 0.3262808 , 0.97939356, 0.11826784,\n",
       "        0.3729025 , 0.06360681, 0.9275486 ],\n",
       "       [0.40349551, 0.04191428, 0.20399767, 0.4745186 , 0.57404864,\n",
       "        0.20037206, 0.98242997, 0.23249344],\n",
       "       [0.45844453, 0.57493243, 0.93157105, 0.77392881, 0.50394666,\n",
       "        0.05805674, 0.77207964, 0.23971579],\n",
       "       [0.73049524, 0.58932255, 0.91555097, 0.87223382, 0.38875213,\n",
       "        0.25859048, 0.41462026, 0.66130758]])"
      ]
     },
     "execution_count": 12,
     "metadata": {},
     "output_type": "execute_result"
    }
   ],
   "source": [
    "x[:5]"
   ]
  },
  {
   "cell_type": "code",
   "execution_count": 13,
   "id": "a016355d",
   "metadata": {},
   "outputs": [],
   "source": [
    "dataset = tf.data.Dataset.from_tensor_slices(x)"
   ]
  },
  {
   "cell_type": "markdown",
   "id": "ebea7d83",
   "metadata": {},
   "source": [
    "#### 1) for 문"
   ]
  },
  {
   "cell_type": "code",
   "execution_count": 14,
   "id": "9e46b8c9",
   "metadata": {},
   "outputs": [
    {
     "name": "stdout",
     "output_type": "stream",
     "text": [
      "tf.Tensor(\n",
      "[0.96378348 0.91709233 0.40705792 0.85203955 0.12843656 0.01407703\n",
      " 0.0589931  0.12745813], shape=(8,), dtype=float64)\n"
     ]
    }
   ],
   "source": [
    "for i in dataset.take(1):\n",
    "    print(i)"
   ]
  },
  {
   "cell_type": "markdown",
   "id": "2ed16d86",
   "metadata": {},
   "source": [
    "#### 2)  as_numpy_iterator + list()"
   ]
  },
  {
   "cell_type": "code",
   "execution_count": 15,
   "id": "fbc91152",
   "metadata": {},
   "outputs": [
    {
     "name": "stdout",
     "output_type": "stream",
     "text": [
      "[array([0.96378348, 0.91709233, 0.40705792, 0.85203955, 0.12843656,\n",
      "       0.01407703, 0.0589931 , 0.12745813])]\n"
     ]
    }
   ],
   "source": [
    "print(list(dataset.take(1).as_numpy_iterator()))"
   ]
  }
 ],
 "metadata": {
  "kernelspec": {
   "display_name": "Python 3 (ipykernel)",
   "language": "python",
   "name": "python3"
  },
  "language_info": {
   "codemirror_mode": {
    "name": "ipython",
    "version": 3
   },
   "file_extension": ".py",
   "mimetype": "text/x-python",
   "name": "python",
   "nbconvert_exporter": "python",
   "pygments_lexer": "ipython3",
   "version": "3.9.7"
  }
 },
 "nbformat": 4,
 "nbformat_minor": 5
}
